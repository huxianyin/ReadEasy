{
 "cells": [
  {
   "cell_type": "code",
   "execution_count": 4,
   "metadata": {
    "id": "RUPzQMAzp6JE"
   },
   "outputs": [],
   "source": [
    "## 吐き出されたcsvのy座標は上からになってることに注意\n",
    "##size[1]から引く"
   ]
  },
  {
   "cell_type": "code",
   "execution_count": 5,
   "metadata": {
    "id": "PYe_qp9Hp3kV"
   },
   "outputs": [],
   "source": [
    "import cv2\n",
    "import csv\n",
    "import math\n",
    "import numpy as np\n",
    "import datetime\n",
    "import os\n",
    "from datetime import datetime, timedelta,timezone\n",
    "import json\n",
    "import re\n",
    "import gzip\n",
    "import sys\n",
    "from tqdm.notebook import tqdm_notebook as loop\n",
    "import pandas as pd"
   ]
  },
  {
   "cell_type": "code",
   "execution_count": 6,
   "metadata": {
    "id": "X5_xQ8Cwp3kY"
   },
   "outputs": [],
   "source": [
    "#AR認識準備\n",
    "dictionary_name = cv2.aruco.DICT_6X6_250\n",
    "dictionary = cv2.aruco.getPredefinedDictionary(dictionary_name)\n",
    "\n",
    "idMax = 4 #マーカの数\n",
    "\n",
    "def getMarkerMean(ids, corners, index):\n",
    "    for i, id in enumerate(ids):\n",
    "        # マーカーのインデックス検索\n",
    "        if(id[0] == index):\n",
    "            v = np.mean(corners[i][0],axis=0) # マーカーの四隅の座標から中心の座標を取得する\n",
    "            return [v[0],v[1]]\n",
    "    return None\n",
    "\n",
    "def getBasisMarker(ids, corners):\n",
    "    # 左上、右上、左下、右下の順にマーカーの「中心座標」を取得\n",
    "    basis = []\n",
    "    for i in range(idMax):\n",
    "        tmp=getMarkerMean(ids,corners,i)\n",
    "        if tmp is not None:\n",
    "            basis.append(tmp)\n",
    "    return basis\n",
    "\n",
    "def getTransformImage(basis,frame,size):\n",
    "    basis_coordinates = np.float32(basis)\n",
    "    target_coordinates   = np.float32([[0, 0],[size[0], 0],[0, size[1]],[size[0], size[1]]])\n",
    "    trans_mat = cv2.getPerspectiveTransform(basis_coordinates,target_coordinates)\n",
    "    return cv2.warpPerspective(frame, trans_mat, (size[0], size[1]))\n",
    "\n",
    "def getTransformedPoint(basis, size,x,y):\n",
    "    basis_coordinates = np.float32(basis)\n",
    "    target_coordinates   = np.float32([[0, 0],[size[0], 0],[0, size[1]],[size[0], size[1]]])\n",
    "    trans_mat = cv2.getPerspectiveTransform(basis_coordinates,target_coordinates)\n",
    "    temp=np.array([[x],[y],[1]])\n",
    "    transformed_temp=np.dot(trans_mat,temp)\n",
    "    return transformed_temp[:2]/transformed_temp[2]"
   ]
  },
  {
   "cell_type": "code",
   "execution_count": 7,
   "metadata": {
    "id": "TdohH3qGp3kZ"
   },
   "outputs": [],
   "source": [
    "#注目座標データ読み込み\n",
    "def readGazefile(filename):\n",
    "    with open(filename) as f:\n",
    "        reader = csv.reader(f)\n",
    "        l = [row for row in reader]\n",
    "    return l"
   ]
  },
  {
   "cell_type": "code",
   "execution_count": 20,
   "metadata": {
    "id": "uNcHExT5p3kb"
   },
   "outputs": [],
   "source": [
    "# 動画保存準備\n",
    "def readyVideoCapture(fps,size):\n",
    "    fmt = cv2.VideoWriter_fourcc('m', 'p', '4', 'v')\n",
    "    filename= os.path.join(root,\"fixed_video.mp4\")\n",
    "    writer = cv2.VideoWriter(filename, fmt, fps, size)\n",
    "    return writer\n",
    "\n",
    "def gaze2D2framepoint(l,gazedata_idx,size):\n",
    "    gaze_x=float(l[gazedata_idx][1])\n",
    "    gaze_y=float(l[gazedata_idx][2])\n",
    "    x=int(size[0]*gaze_x)\n",
    "    y=int(size[1]*gaze_y)\n",
    "    return (x,y)"
   ]
  },
  {
   "cell_type": "code",
   "execution_count": 21,
   "metadata": {
    "id": "EjQhaVcWp3kc"
   },
   "outputs": [],
   "source": [
    "def saveGazepoint(basis,frame,size,x,y,save_num,transformedpoints):\n",
    "#     frame2 = getTransformImage(basis,frame,size)#射影変換\n",
    "    frame2=frame\n",
    "    if x>0:\n",
    "        transformed_point=getTransformedPoint(basis,size,x,y)#変換後の座標\n",
    "#         transformedpoints[save_num]=transformed_point\n",
    "        transformedpoints[save_num]=np.transpose(transformed_point)\n",
    "    else:\n",
    "        transformedpoints[save_num]=(-1,-1)\n",
    "    save_num+=1\n",
    "    return frame2,save_num,transformedpoints"
   ]
  },
  {
   "cell_type": "code",
   "execution_count": 22,
   "metadata": {
    "id": "uFy4aTWJ0ut5"
   },
   "outputs": [],
   "source": [
    "def autoadjust(frame):\n",
    "    cols, rows, temp = frame.shape\n",
    "    brightness = np.sum(frame) / (255 * cols * rows*3)\n",
    "    minimum_brightness = 0.5\n",
    "    ratio = brightness / minimum_brightness\n",
    "    if ratio >= 1:\n",
    "        return frame\n",
    "    return cv2.convertScaleAbs(frame, alpha = 1 / ratio, beta = 0)"
   ]
  },
  {
   "cell_type": "code",
   "execution_count": 23,
   "metadata": {
    "id": "ziwHHi6Pp3kc"
   },
   "outputs": [],
   "source": [
    "def main(gazefilename,videofilename,out_path):\n",
    "    #動画読込\n",
    "    cap=cv2.VideoCapture(videofilename)\n",
    "    width = int(cap.get(cv2.CAP_PROP_FRAME_WIDTH))\n",
    "    height = int(cap.get(cv2.CAP_PROP_FRAME_HEIGHT))\n",
    "    fps = cap.get(cv2.CAP_PROP_FPS)\n",
    "    count = cap.get(cv2.CAP_PROP_FRAME_COUNT);\n",
    "    size = (width, height)\n",
    "    #視線データ読み込み\n",
    "    l=readGazefile(gazefilename)\n",
    "\n",
    "    if (cap.isOpened()== False):  print(\"ビデオファイルを開くとエラーが発生しました\") \n",
    "\n",
    "    writer=readyVideoCapture(fps,size)#動画保存する場合\n",
    "\n",
    "    transformedpoints=np.zeros((100000,2))\n",
    "    save_num=0\n",
    "    now=0\n",
    "    while(cap.isOpened()):\n",
    "        now=now+1/fps\n",
    "        gazedata_idx=int(now/0.02)#数字はgaze2dの時間間隔．50Hz-->0.02\n",
    "\n",
    "        ret, frame = cap.read()\n",
    "\n",
    "        if(frame is None):\n",
    "            if(now>300):\n",
    "                break\n",
    "            else:\n",
    "                continue\n",
    "\n",
    "        if len(l)<=gazedata_idx:\n",
    "            break\n",
    "            \n",
    "        #映像の明るさとコントラスト自動修正\n",
    "        frame=autoadjust(frame)\n",
    "        \n",
    "        #注目点座標\n",
    "        if(not math.isnan(float(l[gazedata_idx][1]))):\n",
    "            (x,y)=gaze2D2framepoint(l,gazedata_idx,size)\n",
    "            cv2.rectangle(frame,(x-5,y-5),(x+5,y+5),color=(0,0,255),thickness=2)##赤い四角描画\n",
    "\n",
    "        #ARマーカ認識\n",
    "        corners, ids, rejectedImgPoints = cv2.aruco.detectMarkers(frame, dictionary)\n",
    "        frame=cv2.aruco.drawDetectedMarkers(frame,corners,ids)##マーカー検知描画\n",
    "\n",
    "        #射影変換，注目点座標保存\n",
    "        if ids is not None:\n",
    "            detectCount = len(ids)\n",
    "            basis=getBasisMarker(ids,corners)\n",
    "            if len(basis)==idMax:##ARマーカが４つあるとき\n",
    "                frame,save_num,transformedpoints=saveGazepoint(basis,frame,size,x,y,save_num,transformedpoints)\n",
    "            else:\n",
    "                transformedpoints[save_num]=(-1,-1)\n",
    "                save_num+=1\n",
    "        else:##ARマーカがない\n",
    "            transformedpoints[save_num]=(-1,-1)\n",
    "            save_num+=1\n",
    "\n",
    "\n",
    "    writer.write(frame)#動画保存\n",
    "#         if ret == True:\n",
    "#             frame = cv2.resize(frame, dsize=(800,450))\n",
    "#             cv2.imshow(\"Video\", frame)#動画表示\n",
    "#             if cv2.waitKey(25) & 0xFF == ord('q'): \n",
    "#                 break\n",
    "#         else:\n",
    "#             break\n",
    "\n",
    "    np.savetxt(out_path, transformedpoints,delimiter=',', fmt='%d')\n",
    "    writer.release()#動画保存終わり\n",
    "    cap.release()\n",
    "    cv2.destroyAllWindows()"
   ]
  },
  {
   "cell_type": "code",
   "execution_count": 24,
   "metadata": {},
   "outputs": [],
   "source": [
    "root=\"./data/test_ar/20220610T063504Z/\""
   ]
  },
  {
   "cell_type": "code",
   "execution_count": 25,
   "metadata": {
    "id": "ws_tflIBp3kd"
   },
   "outputs": [],
   "source": [
    "main(os.path.join(root,\"gaze.csv\"),os.path.join(root,\"scenevideo.mp4\"),os.path.join(root,\"fixed_video.csv\"))"
   ]
  },
  {
   "cell_type": "code",
   "execution_count": null,
   "metadata": {},
   "outputs": [],
   "source": []
  },
  {
   "cell_type": "markdown",
   "metadata": {},
   "source": [
    "## Gaze 座標"
   ]
  },
  {
   "cell_type": "code",
   "execution_count": 11,
   "metadata": {},
   "outputs": [],
   "source": [
    "def extract_timestamp(path):\n",
    "    time_str = os.path.basename(os.path.dirname(path)).split(\"_\")[0]\n",
    "    dt = datetime.strptime(time_str,'%Y%m%dT%H%M%SZ')\n",
    "    timestamp = dt.replace(tzinfo=timezone.utc).timestamp()\n",
    "    return timestamp\n",
    "    \n",
    "\n",
    "def read_tobii_data(file_path):\n",
    "    start_time = extract_timestamp(file_path)\n",
    "    data = []\n",
    "    with gzip.open(file_path,'r') as fin:        \n",
    "        for line in fin:        \n",
    "            tmp = str(line)[2:-3]\n",
    "            obj = json.loads(tmp)\n",
    "            data.append(obj)\n",
    "    gazeX = []\n",
    "    gazeY = []\n",
    "    time_axis = []\n",
    "    for d in loop(data):\n",
    "        if not \"data\" in d or not \"gaze2d\" in d[\"data\"]:continue\n",
    "        time_axis.append(d['timestamp']+start_time)\n",
    "        gazeX.append(d['data']['gaze2d'][0])\n",
    "        gazeY.append(d['data']['gaze2d'][1])\n",
    "    #df = pd.DataFrame(np.array([time_axis,p_left,p_right,gazeX,gazeY]).T,columns=[\"TIME\",\"pLeft\",\"pRight\",\"gazeX\",\"gazeY\"])\n",
    "    df = pd.DataFrame(np.array([time_axis,gazeX,gazeY]).T,columns=[\"TIME\",\"gazeX\",\"gazeY\"])\n",
    "    df.to_csv(os.path.join(os.path.dirname(file_path),\"gaze.csv\"),index=False,header=False)\n",
    "    return df"
   ]
  },
  {
   "cell_type": "code",
   "execution_count": 13,
   "metadata": {},
   "outputs": [
    {
     "data": {
      "application/vnd.jupyter.widget-view+json": {
       "model_id": "9656f9aa200c4f599b0a8ac3e64cde75",
       "version_major": 2,
       "version_minor": 0
      },
      "text/plain": [
       "  0%|          | 0/2973 [00:00<?, ?it/s]"
      ]
     },
     "metadata": {},
     "output_type": "display_data"
    }
   ],
   "source": [
    "df = read_tobii_data(\"./data/test_ar/20220610T063504Z/gazedata.gz\")"
   ]
  },
  {
   "cell_type": "code",
   "execution_count": null,
   "metadata": {},
   "outputs": [],
   "source": []
  }
 ],
 "metadata": {
  "colab": {
   "collapsed_sections": [],
   "name": "Tobii_AR.ipynb",
   "provenance": []
  },
  "kernelspec": {
   "display_name": "Python 3 (ipykernel)",
   "language": "python",
   "name": "python3"
  },
  "language_info": {
   "codemirror_mode": {
    "name": "ipython",
    "version": 3
   },
   "file_extension": ".py",
   "mimetype": "text/x-python",
   "name": "python",
   "nbconvert_exporter": "python",
   "pygments_lexer": "ipython3",
   "version": "3.9.7"
  }
 },
 "nbformat": 4,
 "nbformat_minor": 1
}
