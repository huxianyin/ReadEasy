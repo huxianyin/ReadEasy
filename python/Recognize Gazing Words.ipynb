{
 "cells": [
  {
   "cell_type": "code",
   "execution_count": 76,
   "id": "934b9c85",
   "metadata": {},
   "outputs": [],
   "source": [
    "import os\n",
    "import pandas as pd\n",
    "import numpy as np\n",
    "import cv2\n",
    "import matplotlib.pyplot as plt\n",
    "from utils import read_plux_data,read_tobii_data\n",
    "from tqdm import tqdm as loop"
   ]
  },
  {
   "cell_type": "code",
   "execution_count": 2,
   "id": "0aedf424",
   "metadata": {},
   "outputs": [],
   "source": [
    "data_root = \"./data/exp1\""
   ]
  },
  {
   "cell_type": "code",
   "execution_count": 49,
   "id": "fcec5eba",
   "metadata": {},
   "outputs": [],
   "source": [
    "def get_files(folder,fps_video=25,fps_gaze=50):\n",
    "    label_file = [os.path.join(folder,i) for i in os.listdir(folder) if \".txt\" in i][0]\n",
    "    tobii_folder = [os.path.join(folder,i) for i in os.listdir(folder) if os.path.isdir(os.path.join(folder,i))][0]\n",
    "    label_df = read_plux_data(label_file)\n",
    "    gaze_df = read_tobii_data(os.path.join(tobii_folder,\"gazedata.gz\"))\n",
    "    frames = [int(i/(fps_gaze/fps_video)) for i in range(len(gaze_df))]\n",
    "    gaze_df[\"Frame\"] = frames\n",
    "    screen_video = os.path.join(tobii_folder,\"scenevideo.mp4\")\n",
    "    return screen_video,gaze_df"
   ]
  },
  {
   "cell_type": "code",
   "execution_count": 50,
   "id": "f3991b6b",
   "metadata": {},
   "outputs": [],
   "source": [
    "screen_video,gaze_df = get_files(data_root)"
   ]
  },
  {
   "cell_type": "code",
   "execution_count": 52,
   "id": "18018019",
   "metadata": {},
   "outputs": [
    {
     "data": {
      "text/html": [
       "<div>\n",
       "<style scoped>\n",
       "    .dataframe tbody tr th:only-of-type {\n",
       "        vertical-align: middle;\n",
       "    }\n",
       "\n",
       "    .dataframe tbody tr th {\n",
       "        vertical-align: top;\n",
       "    }\n",
       "\n",
       "    .dataframe thead th {\n",
       "        text-align: right;\n",
       "    }\n",
       "</style>\n",
       "<table border=\"1\" class=\"dataframe\">\n",
       "  <thead>\n",
       "    <tr style=\"text-align: right;\">\n",
       "      <th></th>\n",
       "      <th>TIME</th>\n",
       "      <th>pLeft</th>\n",
       "      <th>pRight</th>\n",
       "      <th>gazeX</th>\n",
       "      <th>gazeY</th>\n",
       "      <th>Frame</th>\n",
       "    </tr>\n",
       "  </thead>\n",
       "  <tbody>\n",
       "    <tr>\n",
       "      <th>0</th>\n",
       "      <td>1.651824e+09</td>\n",
       "      <td>3.176541</td>\n",
       "      <td>3.380422</td>\n",
       "      <td>0.530833</td>\n",
       "      <td>0.559420</td>\n",
       "      <td>0</td>\n",
       "    </tr>\n",
       "    <tr>\n",
       "      <th>1</th>\n",
       "      <td>1.651824e+09</td>\n",
       "      <td>3.179094</td>\n",
       "      <td>3.383096</td>\n",
       "      <td>0.530842</td>\n",
       "      <td>0.559625</td>\n",
       "      <td>0</td>\n",
       "    </tr>\n",
       "    <tr>\n",
       "      <th>2</th>\n",
       "      <td>1.651824e+09</td>\n",
       "      <td>3.184719</td>\n",
       "      <td>3.381771</td>\n",
       "      <td>0.530912</td>\n",
       "      <td>0.559550</td>\n",
       "      <td>1</td>\n",
       "    </tr>\n",
       "    <tr>\n",
       "      <th>3</th>\n",
       "      <td>1.651824e+09</td>\n",
       "      <td>3.190416</td>\n",
       "      <td>3.380764</td>\n",
       "      <td>0.530796</td>\n",
       "      <td>0.559932</td>\n",
       "      <td>1</td>\n",
       "    </tr>\n",
       "    <tr>\n",
       "      <th>4</th>\n",
       "      <td>1.651824e+09</td>\n",
       "      <td>3.197776</td>\n",
       "      <td>3.385649</td>\n",
       "      <td>0.530754</td>\n",
       "      <td>0.559935</td>\n",
       "      <td>2</td>\n",
       "    </tr>\n",
       "  </tbody>\n",
       "</table>\n",
       "</div>"
      ],
      "text/plain": [
       "           TIME     pLeft    pRight     gazeX     gazeY  Frame\n",
       "0  1.651824e+09  3.176541  3.380422  0.530833  0.559420      0\n",
       "1  1.651824e+09  3.179094  3.383096  0.530842  0.559625      0\n",
       "2  1.651824e+09  3.184719  3.381771  0.530912  0.559550      1\n",
       "3  1.651824e+09  3.190416  3.380764  0.530796  0.559932      1\n",
       "4  1.651824e+09  3.197776  3.385649  0.530754  0.559935      2"
      ]
     },
     "execution_count": 52,
     "metadata": {},
     "output_type": "execute_result"
    }
   ],
   "source": [
    "gaze_df.head()"
   ]
  },
  {
   "cell_type": "code",
   "execution_count": 97,
   "id": "06190490",
   "metadata": {},
   "outputs": [],
   "source": [
    "def generate_fucosed_region(screen_video,gaze_df,save_dir,win=50,width=1920,height=1080,fps=25):\n",
    "    if not os.path.exists(save_dir):\n",
    "        os.makedirs(save_dir,exist_ok=True)\n",
    "    vidcap = cv2.VideoCapture(screen_video)\n",
    "    success,image = vidcap.read()\n",
    "    count = 0\n",
    "    while success: \n",
    "        success,image = vidcap.read()\n",
    "        image = cv2.cvtColor(image, cv2.COLOR_BGR2GRAY)\n",
    "        try:\n",
    "            if count%fps==0:\n",
    "                x = int(list(gaze_df[gaze_df.Frame==count][\"gazeX\"])[0]*height)\n",
    "                y = int(list(gaze_df[gaze_df.Frame==count][\"gazeY\"])[0]*width)\n",
    "                cropped_image = image[x-win:x+win,y-win:y+win] #,cmap='gray', vmin=0, vmax=255)\n",
    "                #save_image\n",
    "                cv2.imwrite(os.path.join(save_dir,str(count)+\".jpg\"), cropped_image)\n",
    "        except Exception:\n",
    "            pass\n",
    "        count += 1"
   ]
  },
  {
   "cell_type": "code",
   "execution_count": 98,
   "id": "643de723",
   "metadata": {},
   "outputs": [
    {
     "ename": "KeyboardInterrupt",
     "evalue": "",
     "output_type": "error",
     "traceback": [
      "\u001b[0;31m---------------------------------------------------------------------------\u001b[0m",
      "\u001b[0;31mKeyboardInterrupt\u001b[0m                         Traceback (most recent call last)",
      "\u001b[0;32m/var/folders/3p/wg384chs5zg30ch0g8ylb0p00000gn/T/ipykernel_49130/2781547856.py\u001b[0m in \u001b[0;36m<module>\u001b[0;34m\u001b[0m\n\u001b[0;32m----> 1\u001b[0;31m \u001b[0mgenerate_fucosed_region\u001b[0m\u001b[0;34m(\u001b[0m\u001b[0mscreen_video\u001b[0m\u001b[0;34m,\u001b[0m\u001b[0mgaze_df\u001b[0m\u001b[0;34m,\u001b[0m\u001b[0msave_dir\u001b[0m\u001b[0;34m=\u001b[0m\u001b[0;34m\"./data/exp1/20220506T080132Z/cropped_imgs\"\u001b[0m\u001b[0;34m)\u001b[0m\u001b[0;34m\u001b[0m\u001b[0;34m\u001b[0m\u001b[0m\n\u001b[0m",
      "\u001b[0;32m/var/folders/3p/wg384chs5zg30ch0g8ylb0p00000gn/T/ipykernel_49130/3833935322.py\u001b[0m in \u001b[0;36mgenerate_fucosed_region\u001b[0;34m(screen_video, gaze_df, save_dir, win, width, height, fps)\u001b[0m\n\u001b[1;32m      6\u001b[0m     \u001b[0mcount\u001b[0m \u001b[0;34m=\u001b[0m \u001b[0;36m0\u001b[0m\u001b[0;34m\u001b[0m\u001b[0;34m\u001b[0m\u001b[0m\n\u001b[1;32m      7\u001b[0m     \u001b[0;32mwhile\u001b[0m \u001b[0msuccess\u001b[0m\u001b[0;34m:\u001b[0m\u001b[0;34m\u001b[0m\u001b[0;34m\u001b[0m\u001b[0m\n\u001b[0;32m----> 8\u001b[0;31m         \u001b[0msuccess\u001b[0m\u001b[0;34m,\u001b[0m\u001b[0mimage\u001b[0m \u001b[0;34m=\u001b[0m \u001b[0mvidcap\u001b[0m\u001b[0;34m.\u001b[0m\u001b[0mread\u001b[0m\u001b[0;34m(\u001b[0m\u001b[0;34m)\u001b[0m\u001b[0;34m\u001b[0m\u001b[0;34m\u001b[0m\u001b[0m\n\u001b[0m\u001b[1;32m      9\u001b[0m         \u001b[0mimage\u001b[0m \u001b[0;34m=\u001b[0m \u001b[0mcv2\u001b[0m\u001b[0;34m.\u001b[0m\u001b[0mcvtColor\u001b[0m\u001b[0;34m(\u001b[0m\u001b[0mimage\u001b[0m\u001b[0;34m,\u001b[0m \u001b[0mcv2\u001b[0m\u001b[0;34m.\u001b[0m\u001b[0mCOLOR_BGR2GRAY\u001b[0m\u001b[0;34m)\u001b[0m\u001b[0;34m\u001b[0m\u001b[0;34m\u001b[0m\u001b[0m\n\u001b[1;32m     10\u001b[0m         \u001b[0;32mtry\u001b[0m\u001b[0;34m:\u001b[0m\u001b[0;34m\u001b[0m\u001b[0;34m\u001b[0m\u001b[0m\n",
      "\u001b[0;31mKeyboardInterrupt\u001b[0m: "
     ]
    }
   ],
   "source": [
    "generate_fucosed_region(screen_video,gaze_df,save_dir=\"./data/exp1/20220506T080132Z/cropped_imgs\")"
   ]
  },
  {
   "cell_type": "code",
   "execution_count": null,
   "id": "053fc076",
   "metadata": {},
   "outputs": [],
   "source": []
  }
 ],
 "metadata": {
  "kernelspec": {
   "display_name": "Python 3 (ipykernel)",
   "language": "python",
   "name": "python3"
  },
  "language_info": {
   "codemirror_mode": {
    "name": "ipython",
    "version": 3
   },
   "file_extension": ".py",
   "mimetype": "text/x-python",
   "name": "python",
   "nbconvert_exporter": "python",
   "pygments_lexer": "ipython3",
   "version": "3.9.7"
  }
 },
 "nbformat": 4,
 "nbformat_minor": 5
}
